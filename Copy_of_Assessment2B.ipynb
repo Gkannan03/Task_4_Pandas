{
  "cells": [
    {
      "cell_type": "markdown",
      "metadata": {
        "id": "view-in-github",
        "colab_type": "text"
      },
      "source": [
        "<a href=\"https://colab.research.google.com/github/Gkannan03/Task_4_Pandas/blob/main/Copy_of_Assessment2B.ipynb\" target=\"_parent\"><img src=\"https://colab.research.google.com/assets/colab-badge.svg\" alt=\"Open In Colab\"/></a>"
      ]
    },
    {
      "cell_type": "markdown",
      "metadata": {
        "id": "VgACnjT6cdZs"
      },
      "source": [
        "###### Assessment"
      ]
    },
    {
      "cell_type": "markdown",
      "metadata": {
        "id": "jMBmvo5-cdZ1"
      },
      "source": [
        "###### I am going to provide two .csv files , you are supposed to work on them and have to provide solutions to the following problems"
      ]
    },
    {
      "cell_type": "markdown",
      "metadata": {
        "id": "-3y9OH-EcdZ2"
      },
      "source": [
        "###### import necessary libraries"
      ]
    },
    {
      "cell_type": "code",
      "execution_count": 1,
      "metadata": {
        "id": "QaP8sNd-cdZ3"
      },
      "outputs": [],
      "source": [
        "import pandas as pd\n",
        "import numpy as np\n",
        "from matplotlib import pyplot as plt"
      ]
    },
    {
      "cell_type": "markdown",
      "metadata": {
        "id": "vDWxKDbzcdZ3"
      },
      "source": [
        "###### merge those two csv files (after getting as dataframes, get them as a single dataframe)"
      ]
    },
    {
      "cell_type": "code",
      "execution_count": 2,
      "metadata": {
        "id": "50D32KrZcdZ4",
        "colab": {
          "base_uri": "https://localhost:8080/",
          "height": 423
        },
        "outputId": "790f19f7-6ed1-4aca-f2e3-646c4b9b79d6"
      },
      "outputs": [
        {
          "output_type": "execute_result",
          "data": {
            "text/plain": [
              "              Name  python  mysql  Previous Geekions  CodeKata Score  \\\n",
              "0        A.Dharani    82.0   20.0              24500           24500   \n",
              "1      V.JEEVITHA     82.0   20.0              21740           21740   \n",
              "2      HEMAVATHI.R   100.0  100.0              19680           19680   \n",
              "3      Mugunthan S   100.0   47.0              10610           10610   \n",
              "4      Sathammai.S   100.0    8.0               8980            8980   \n",
              "..             ...     ...    ...                ...             ...   \n",
              "114  praveen raj j    24.0    0.0               2380            2380   \n",
              "115     AMARNATH D    -1.0   12.0               1890            1890   \n",
              "116           bala    32.0    0.0               1720            1720   \n",
              "117           XY Z    -1.0   -1.0                  0               0   \n",
              "118      Hariharan    -1.0   -1.0                  0               0   \n",
              "\n",
              "                                    Department  Rising  python_en  \\\n",
              "0             Computer Science and Engineering       0        NaN   \n",
              "1             Computer Science and Engineering       0        NaN   \n",
              "2             Computer Science and Engineering       0        NaN   \n",
              "3             Computer Science and Engineering       0        NaN   \n",
              "4             Computer Science and Engineering       0        NaN   \n",
              "..                                         ...     ...        ...   \n",
              "114           Computer Science and Engineering       0       -1.0   \n",
              "115  Electronics and Communication Engineering       0       52.0   \n",
              "116  Electronics and Communication Engineering       0       49.0   \n",
              "117           Computer Science and Engineering       0       20.0   \n",
              "118           Computer Science and Engineering       0       -1.0   \n",
              "\n",
              "     computational_thinking  \n",
              "0                       NaN  \n",
              "1                       NaN  \n",
              "2                       NaN  \n",
              "3                       NaN  \n",
              "4                       NaN  \n",
              "..                      ...  \n",
              "114                     0.0  \n",
              "115                    -1.0  \n",
              "116                    -1.0  \n",
              "117                    -1.0  \n",
              "118                     0.0  \n",
              "\n",
              "[119 rows x 9 columns]"
            ],
            "text/html": [
              "\n",
              "  <div id=\"df-4f353515-f7d7-4279-8dce-61cefb1e3c87\">\n",
              "    <div class=\"colab-df-container\">\n",
              "      <div>\n",
              "<style scoped>\n",
              "    .dataframe tbody tr th:only-of-type {\n",
              "        vertical-align: middle;\n",
              "    }\n",
              "\n",
              "    .dataframe tbody tr th {\n",
              "        vertical-align: top;\n",
              "    }\n",
              "\n",
              "    .dataframe thead th {\n",
              "        text-align: right;\n",
              "    }\n",
              "</style>\n",
              "<table border=\"1\" class=\"dataframe\">\n",
              "  <thead>\n",
              "    <tr style=\"text-align: right;\">\n",
              "      <th></th>\n",
              "      <th>Name</th>\n",
              "      <th>python</th>\n",
              "      <th>mysql</th>\n",
              "      <th>Previous Geekions</th>\n",
              "      <th>CodeKata Score</th>\n",
              "      <th>Department</th>\n",
              "      <th>Rising</th>\n",
              "      <th>python_en</th>\n",
              "      <th>computational_thinking</th>\n",
              "    </tr>\n",
              "  </thead>\n",
              "  <tbody>\n",
              "    <tr>\n",
              "      <th>0</th>\n",
              "      <td>A.Dharani</td>\n",
              "      <td>82.0</td>\n",
              "      <td>20.0</td>\n",
              "      <td>24500</td>\n",
              "      <td>24500</td>\n",
              "      <td>Computer Science and Engineering</td>\n",
              "      <td>0</td>\n",
              "      <td>NaN</td>\n",
              "      <td>NaN</td>\n",
              "    </tr>\n",
              "    <tr>\n",
              "      <th>1</th>\n",
              "      <td>V.JEEVITHA</td>\n",
              "      <td>82.0</td>\n",
              "      <td>20.0</td>\n",
              "      <td>21740</td>\n",
              "      <td>21740</td>\n",
              "      <td>Computer Science and Engineering</td>\n",
              "      <td>0</td>\n",
              "      <td>NaN</td>\n",
              "      <td>NaN</td>\n",
              "    </tr>\n",
              "    <tr>\n",
              "      <th>2</th>\n",
              "      <td>HEMAVATHI.R</td>\n",
              "      <td>100.0</td>\n",
              "      <td>100.0</td>\n",
              "      <td>19680</td>\n",
              "      <td>19680</td>\n",
              "      <td>Computer Science and Engineering</td>\n",
              "      <td>0</td>\n",
              "      <td>NaN</td>\n",
              "      <td>NaN</td>\n",
              "    </tr>\n",
              "    <tr>\n",
              "      <th>3</th>\n",
              "      <td>Mugunthan S</td>\n",
              "      <td>100.0</td>\n",
              "      <td>47.0</td>\n",
              "      <td>10610</td>\n",
              "      <td>10610</td>\n",
              "      <td>Computer Science and Engineering</td>\n",
              "      <td>0</td>\n",
              "      <td>NaN</td>\n",
              "      <td>NaN</td>\n",
              "    </tr>\n",
              "    <tr>\n",
              "      <th>4</th>\n",
              "      <td>Sathammai.S</td>\n",
              "      <td>100.0</td>\n",
              "      <td>8.0</td>\n",
              "      <td>8980</td>\n",
              "      <td>8980</td>\n",
              "      <td>Computer Science and Engineering</td>\n",
              "      <td>0</td>\n",
              "      <td>NaN</td>\n",
              "      <td>NaN</td>\n",
              "    </tr>\n",
              "    <tr>\n",
              "      <th>...</th>\n",
              "      <td>...</td>\n",
              "      <td>...</td>\n",
              "      <td>...</td>\n",
              "      <td>...</td>\n",
              "      <td>...</td>\n",
              "      <td>...</td>\n",
              "      <td>...</td>\n",
              "      <td>...</td>\n",
              "      <td>...</td>\n",
              "    </tr>\n",
              "    <tr>\n",
              "      <th>114</th>\n",
              "      <td>praveen raj j</td>\n",
              "      <td>24.0</td>\n",
              "      <td>0.0</td>\n",
              "      <td>2380</td>\n",
              "      <td>2380</td>\n",
              "      <td>Computer Science and Engineering</td>\n",
              "      <td>0</td>\n",
              "      <td>-1.0</td>\n",
              "      <td>0.0</td>\n",
              "    </tr>\n",
              "    <tr>\n",
              "      <th>115</th>\n",
              "      <td>AMARNATH D</td>\n",
              "      <td>-1.0</td>\n",
              "      <td>12.0</td>\n",
              "      <td>1890</td>\n",
              "      <td>1890</td>\n",
              "      <td>Electronics and Communication Engineering</td>\n",
              "      <td>0</td>\n",
              "      <td>52.0</td>\n",
              "      <td>-1.0</td>\n",
              "    </tr>\n",
              "    <tr>\n",
              "      <th>116</th>\n",
              "      <td>bala</td>\n",
              "      <td>32.0</td>\n",
              "      <td>0.0</td>\n",
              "      <td>1720</td>\n",
              "      <td>1720</td>\n",
              "      <td>Electronics and Communication Engineering</td>\n",
              "      <td>0</td>\n",
              "      <td>49.0</td>\n",
              "      <td>-1.0</td>\n",
              "    </tr>\n",
              "    <tr>\n",
              "      <th>117</th>\n",
              "      <td>XY Z</td>\n",
              "      <td>-1.0</td>\n",
              "      <td>-1.0</td>\n",
              "      <td>0</td>\n",
              "      <td>0</td>\n",
              "      <td>Computer Science and Engineering</td>\n",
              "      <td>0</td>\n",
              "      <td>20.0</td>\n",
              "      <td>-1.0</td>\n",
              "    </tr>\n",
              "    <tr>\n",
              "      <th>118</th>\n",
              "      <td>Hariharan</td>\n",
              "      <td>-1.0</td>\n",
              "      <td>-1.0</td>\n",
              "      <td>0</td>\n",
              "      <td>0</td>\n",
              "      <td>Computer Science and Engineering</td>\n",
              "      <td>0</td>\n",
              "      <td>-1.0</td>\n",
              "      <td>0.0</td>\n",
              "    </tr>\n",
              "  </tbody>\n",
              "</table>\n",
              "<p>119 rows × 9 columns</p>\n",
              "</div>\n",
              "      <button class=\"colab-df-convert\" onclick=\"convertToInteractive('df-4f353515-f7d7-4279-8dce-61cefb1e3c87')\"\n",
              "              title=\"Convert this dataframe to an interactive table.\"\n",
              "              style=\"display:none;\">\n",
              "        \n",
              "  <svg xmlns=\"http://www.w3.org/2000/svg\" height=\"24px\"viewBox=\"0 0 24 24\"\n",
              "       width=\"24px\">\n",
              "    <path d=\"M0 0h24v24H0V0z\" fill=\"none\"/>\n",
              "    <path d=\"M18.56 5.44l.94 2.06.94-2.06 2.06-.94-2.06-.94-.94-2.06-.94 2.06-2.06.94zm-11 1L8.5 8.5l.94-2.06 2.06-.94-2.06-.94L8.5 2.5l-.94 2.06-2.06.94zm10 10l.94 2.06.94-2.06 2.06-.94-2.06-.94-.94-2.06-.94 2.06-2.06.94z\"/><path d=\"M17.41 7.96l-1.37-1.37c-.4-.4-.92-.59-1.43-.59-.52 0-1.04.2-1.43.59L10.3 9.45l-7.72 7.72c-.78.78-.78 2.05 0 2.83L4 21.41c.39.39.9.59 1.41.59.51 0 1.02-.2 1.41-.59l7.78-7.78 2.81-2.81c.8-.78.8-2.07 0-2.86zM5.41 20L4 18.59l7.72-7.72 1.47 1.35L5.41 20z\"/>\n",
              "  </svg>\n",
              "      </button>\n",
              "      \n",
              "  <style>\n",
              "    .colab-df-container {\n",
              "      display:flex;\n",
              "      flex-wrap:wrap;\n",
              "      gap: 12px;\n",
              "    }\n",
              "\n",
              "    .colab-df-convert {\n",
              "      background-color: #E8F0FE;\n",
              "      border: none;\n",
              "      border-radius: 50%;\n",
              "      cursor: pointer;\n",
              "      display: none;\n",
              "      fill: #1967D2;\n",
              "      height: 32px;\n",
              "      padding: 0 0 0 0;\n",
              "      width: 32px;\n",
              "    }\n",
              "\n",
              "    .colab-df-convert:hover {\n",
              "      background-color: #E2EBFA;\n",
              "      box-shadow: 0px 1px 2px rgba(60, 64, 67, 0.3), 0px 1px 3px 1px rgba(60, 64, 67, 0.15);\n",
              "      fill: #174EA6;\n",
              "    }\n",
              "\n",
              "    [theme=dark] .colab-df-convert {\n",
              "      background-color: #3B4455;\n",
              "      fill: #D2E3FC;\n",
              "    }\n",
              "\n",
              "    [theme=dark] .colab-df-convert:hover {\n",
              "      background-color: #434B5C;\n",
              "      box-shadow: 0px 1px 3px 1px rgba(0, 0, 0, 0.15);\n",
              "      filter: drop-shadow(0px 1px 2px rgba(0, 0, 0, 0.3));\n",
              "      fill: #FFFFFF;\n",
              "    }\n",
              "  </style>\n",
              "\n",
              "      <script>\n",
              "        const buttonEl =\n",
              "          document.querySelector('#df-4f353515-f7d7-4279-8dce-61cefb1e3c87 button.colab-df-convert');\n",
              "        buttonEl.style.display =\n",
              "          google.colab.kernel.accessAllowed ? 'block' : 'none';\n",
              "\n",
              "        async function convertToInteractive(key) {\n",
              "          const element = document.querySelector('#df-4f353515-f7d7-4279-8dce-61cefb1e3c87');\n",
              "          const dataTable =\n",
              "            await google.colab.kernel.invokeFunction('convertToInteractive',\n",
              "                                                     [key], {});\n",
              "          if (!dataTable) return;\n",
              "\n",
              "          const docLinkHtml = 'Like what you see? Visit the ' +\n",
              "            '<a target=\"_blank\" href=https://colab.research.google.com/notebooks/data_table.ipynb>data table notebook</a>'\n",
              "            + ' to learn more about interactive tables.';\n",
              "          element.innerHTML = '';\n",
              "          dataTable['output_type'] = 'display_data';\n",
              "          await google.colab.output.renderOutput(dataTable, element);\n",
              "          const docLink = document.createElement('div');\n",
              "          docLink.innerHTML = docLinkHtml;\n",
              "          element.appendChild(docLink);\n",
              "        }\n",
              "      </script>\n",
              "    </div>\n",
              "  </div>\n",
              "  "
            ]
          },
          "metadata": {},
          "execution_count": 2
        }
      ],
      "source": [
        "college1=pd.read_csv(\"college_1.csv\")\n",
        "college2=pd.read_csv('college_2.csv')\n",
        "new_df=pd.concat([college1,college2], ignore_index=True)\n",
        "new_df"
      ]
    },
    {
      "cell_type": "markdown",
      "metadata": {
        "id": "M2wsXYHCcdZ4"
      },
      "source": [
        "###### Take each csv file , split that csv file into multiple categories (example csv files are added in the repo) \n"
      ]
    },
    {
      "cell_type": "markdown",
      "metadata": {
        "id": "p4yw1WWEcdZ5"
      },
      "source": [
        "###### consider if the codekata score exceeds 15000 points(present week) then make a csv on those observations as Exceeded expectations.csv\n"
      ]
    },
    {
      "cell_type": "code",
      "source": [
        "Exceeded_df=new_df[new_df['CodeKata Score']>15000]\n",
        "Exceeded_df.to_csv('Exceeded expectations.csv')"
      ],
      "metadata": {
        "id": "r7aYPIOGKaPH"
      },
      "execution_count": 3,
      "outputs": []
    },
    {
      "cell_type": "markdown",
      "metadata": {
        "id": "zvOsmmFhcdZ5"
      },
      "source": [
        "###### if  10000<codekata score<15000   (Reached_expectations.csv)\n",
        "\n"
      ]
    },
    {
      "cell_type": "code",
      "source": [
        "Reached_exp_df= new_df[(new_df['CodeKata Score']<15000) & (new_df['CodeKata Score']>10000)]\n",
        "Reached_exp_df.to_csv('Reached_expectations.csv')"
      ],
      "metadata": {
        "id": "OagARPhALdN-"
      },
      "execution_count": 4,
      "outputs": []
    },
    {
      "cell_type": "markdown",
      "metadata": {
        "id": "YGbycCoGcdZ6"
      },
      "source": [
        "###### if  7000<codekata score<10000   (Needs_Improvement.csv)\n"
      ]
    },
    {
      "cell_type": "code",
      "source": [
        "Need_imp_df= new_df[ (new_df['CodeKata Score']<10000) & (new_df['CodeKata Score']>7000)]\n",
        "Need_imp_df.to_csv('Needs_Improvement.csv')"
      ],
      "metadata": {
        "id": "frJwK6CZMJ6O"
      },
      "execution_count": 5,
      "outputs": []
    },
    {
      "cell_type": "markdown",
      "metadata": {
        "id": "GDH-aRb1cdZ7"
      },
      "source": [
        "###### if  codekate score < 7000        (Unsatisfactory.csv)"
      ]
    },
    {
      "cell_type": "code",
      "execution_count": 6,
      "metadata": {
        "id": "yqu8STFocdZ8"
      },
      "outputs": [],
      "source": [
        "Unsatisfactory_df= new_df[ new_df['CodeKata Score']<7000]\n",
        "Unsatisfactory_df.to_csv('Unsatisfactory.csv')"
      ]
    },
    {
      "cell_type": "markdown",
      "metadata": {
        "id": "UOCJPuSucdZ9"
      },
      "source": [
        "###### Average of previous week geekions vs this week geekions (i.e Previous Geekions vs CodeKata Score)"
      ]
    },
    {
      "cell_type": "code",
      "execution_count": 7,
      "metadata": {
        "id": "XJeQq0u2cdZ-",
        "colab": {
          "base_uri": "https://localhost:8080/"
        },
        "outputId": "7de276e1-077c-45bf-ff1f-8ec7a84870b8"
      },
      "outputs": [
        {
          "output_type": "stream",
          "name": "stdout",
          "text": [
            "Average of Previous week geekions  3842.3529411764707\n",
            "Average of this week geekions  4051.764705882353\n"
          ]
        }
      ],
      "source": [
        "Previous_week= new_df['Previous Geekions'].mean()\n",
        "print('Average of Previous week geekions ', Previous_week)\n",
        "This_week= new_df['CodeKata Score'].mean()\n",
        "print('Average of this week geekions ',This_week)"
      ]
    },
    {
      "cell_type": "markdown",
      "metadata": {
        "id": "l9oE9hqrcdZ-"
      },
      "source": [
        "###### No of students participated "
      ]
    },
    {
      "cell_type": "code",
      "execution_count": 13,
      "metadata": {
        "id": "Vhvd5r1AcdZ-",
        "colab": {
          "base_uri": "https://localhost:8080/"
        },
        "outputId": "050727e7-9e4f-4020-c150-21fc348c1be7"
      },
      "outputs": [
        {
          "output_type": "execute_result",
          "data": {
            "text/plain": [
              "112"
            ]
          },
          "metadata": {},
          "execution_count": 13
        }
      ],
      "source": [
        "Student_participated=new_df[new_df['CodeKata Score'] != 0]\n",
        "Student_participated.count()[0]"
      ]
    },
    {
      "cell_type": "markdown",
      "metadata": {
        "id": "SpqzTyMXcdZ-"
      },
      "source": [
        "###### #Average completion of python course or my_sql or python english or computational thinking"
      ]
    },
    {
      "cell_type": "code",
      "execution_count": null,
      "metadata": {
        "id": "58jkCsVpcdZ_",
        "colab": {
          "base_uri": "https://localhost:8080/",
          "height": 617
        },
        "outputId": "48db192a-02dd-4272-f276-e3de2e874cf5"
      },
      "outputs": [
        {
          "output_type": "stream",
          "name": "stdout",
          "text": [
            "python                      54.352941\n",
            "mysql                       23.500000\n",
            "Previous Geekions         3842.352941\n",
            "CodeKata Score            4051.764706\n",
            "Rising                     209.411765\n",
            "python_en                   29.657143\n",
            "computational_thinking       2.200000\n",
            "dtype: float64\n"
          ]
        },
        {
          "output_type": "stream",
          "name": "stderr",
          "text": [
            "<ipython-input-10-d9783abbf6bd>:2: FutureWarning: Dropping of nuisance columns in DataFrame reductions (with 'numeric_only=None') is deprecated; in a future version this will raise TypeError.  Select only valid columns before calling the reduction.\n",
            "  mean_valu= new_df.mean()\n"
          ]
        },
        {
          "output_type": "execute_result",
          "data": {
            "text/plain": [
              "              Name  python  mysql  Previous Geekions  CodeKata Score  \\\n",
              "0        A.Dharani    82.0   20.0              24500           24500   \n",
              "1      V.JEEVITHA     82.0   20.0              21740           21740   \n",
              "2      HEMAVATHI.R   100.0  100.0              19680           19680   \n",
              "3      Mugunthan S   100.0   47.0              10610           10610   \n",
              "4      Sathammai.S   100.0    8.0               8980            8980   \n",
              "..             ...     ...    ...                ...             ...   \n",
              "110      sridhar.s    -1.0    0.0               3860            4440   \n",
              "112  M.Karthikeyan    -1.0    4.0               4020            4020   \n",
              "113      Abishak s    -1.0   35.0               3220            3220   \n",
              "115     AMARNATH D    -1.0   12.0               1890            1890   \n",
              "116           bala    32.0    0.0               1720            1720   \n",
              "\n",
              "                                    Department  Rising  python_en  \\\n",
              "0             Computer Science and Engineering       0        NaN   \n",
              "1             Computer Science and Engineering       0        NaN   \n",
              "2             Computer Science and Engineering       0        NaN   \n",
              "3             Computer Science and Engineering       0        NaN   \n",
              "4             Computer Science and Engineering       0        NaN   \n",
              "..                                         ...     ...        ...   \n",
              "110           Computer Science and Engineering     580       52.0   \n",
              "112           Computer Science and Engineering       0        0.0   \n",
              "113  Electronics and Communication Engineering       0       55.0   \n",
              "115  Electronics and Communication Engineering       0       52.0   \n",
              "116  Electronics and Communication Engineering       0       49.0   \n",
              "\n",
              "     computational_thinking  \n",
              "0                       NaN  \n",
              "1                       NaN  \n",
              "2                       NaN  \n",
              "3                       NaN  \n",
              "4                       NaN  \n",
              "..                      ...  \n",
              "110                     0.0  \n",
              "112                     6.0  \n",
              "113                     6.0  \n",
              "115                    -1.0  \n",
              "116                    -1.0  \n",
              "\n",
              "[99 rows x 9 columns]"
            ],
            "text/html": [
              "\n",
              "  <div id=\"df-a05e59f1-84d3-4e14-92d5-849142a92bb2\">\n",
              "    <div class=\"colab-df-container\">\n",
              "      <div>\n",
              "<style scoped>\n",
              "    .dataframe tbody tr th:only-of-type {\n",
              "        vertical-align: middle;\n",
              "    }\n",
              "\n",
              "    .dataframe tbody tr th {\n",
              "        vertical-align: top;\n",
              "    }\n",
              "\n",
              "    .dataframe thead th {\n",
              "        text-align: right;\n",
              "    }\n",
              "</style>\n",
              "<table border=\"1\" class=\"dataframe\">\n",
              "  <thead>\n",
              "    <tr style=\"text-align: right;\">\n",
              "      <th></th>\n",
              "      <th>Name</th>\n",
              "      <th>python</th>\n",
              "      <th>mysql</th>\n",
              "      <th>Previous Geekions</th>\n",
              "      <th>CodeKata Score</th>\n",
              "      <th>Department</th>\n",
              "      <th>Rising</th>\n",
              "      <th>python_en</th>\n",
              "      <th>computational_thinking</th>\n",
              "    </tr>\n",
              "  </thead>\n",
              "  <tbody>\n",
              "    <tr>\n",
              "      <th>0</th>\n",
              "      <td>A.Dharani</td>\n",
              "      <td>82.0</td>\n",
              "      <td>20.0</td>\n",
              "      <td>24500</td>\n",
              "      <td>24500</td>\n",
              "      <td>Computer Science and Engineering</td>\n",
              "      <td>0</td>\n",
              "      <td>NaN</td>\n",
              "      <td>NaN</td>\n",
              "    </tr>\n",
              "    <tr>\n",
              "      <th>1</th>\n",
              "      <td>V.JEEVITHA</td>\n",
              "      <td>82.0</td>\n",
              "      <td>20.0</td>\n",
              "      <td>21740</td>\n",
              "      <td>21740</td>\n",
              "      <td>Computer Science and Engineering</td>\n",
              "      <td>0</td>\n",
              "      <td>NaN</td>\n",
              "      <td>NaN</td>\n",
              "    </tr>\n",
              "    <tr>\n",
              "      <th>2</th>\n",
              "      <td>HEMAVATHI.R</td>\n",
              "      <td>100.0</td>\n",
              "      <td>100.0</td>\n",
              "      <td>19680</td>\n",
              "      <td>19680</td>\n",
              "      <td>Computer Science and Engineering</td>\n",
              "      <td>0</td>\n",
              "      <td>NaN</td>\n",
              "      <td>NaN</td>\n",
              "    </tr>\n",
              "    <tr>\n",
              "      <th>3</th>\n",
              "      <td>Mugunthan S</td>\n",
              "      <td>100.0</td>\n",
              "      <td>47.0</td>\n",
              "      <td>10610</td>\n",
              "      <td>10610</td>\n",
              "      <td>Computer Science and Engineering</td>\n",
              "      <td>0</td>\n",
              "      <td>NaN</td>\n",
              "      <td>NaN</td>\n",
              "    </tr>\n",
              "    <tr>\n",
              "      <th>4</th>\n",
              "      <td>Sathammai.S</td>\n",
              "      <td>100.0</td>\n",
              "      <td>8.0</td>\n",
              "      <td>8980</td>\n",
              "      <td>8980</td>\n",
              "      <td>Computer Science and Engineering</td>\n",
              "      <td>0</td>\n",
              "      <td>NaN</td>\n",
              "      <td>NaN</td>\n",
              "    </tr>\n",
              "    <tr>\n",
              "      <th>...</th>\n",
              "      <td>...</td>\n",
              "      <td>...</td>\n",
              "      <td>...</td>\n",
              "      <td>...</td>\n",
              "      <td>...</td>\n",
              "      <td>...</td>\n",
              "      <td>...</td>\n",
              "      <td>...</td>\n",
              "      <td>...</td>\n",
              "    </tr>\n",
              "    <tr>\n",
              "      <th>110</th>\n",
              "      <td>sridhar.s</td>\n",
              "      <td>-1.0</td>\n",
              "      <td>0.0</td>\n",
              "      <td>3860</td>\n",
              "      <td>4440</td>\n",
              "      <td>Computer Science and Engineering</td>\n",
              "      <td>580</td>\n",
              "      <td>52.0</td>\n",
              "      <td>0.0</td>\n",
              "    </tr>\n",
              "    <tr>\n",
              "      <th>112</th>\n",
              "      <td>M.Karthikeyan</td>\n",
              "      <td>-1.0</td>\n",
              "      <td>4.0</td>\n",
              "      <td>4020</td>\n",
              "      <td>4020</td>\n",
              "      <td>Computer Science and Engineering</td>\n",
              "      <td>0</td>\n",
              "      <td>0.0</td>\n",
              "      <td>6.0</td>\n",
              "    </tr>\n",
              "    <tr>\n",
              "      <th>113</th>\n",
              "      <td>Abishak s</td>\n",
              "      <td>-1.0</td>\n",
              "      <td>35.0</td>\n",
              "      <td>3220</td>\n",
              "      <td>3220</td>\n",
              "      <td>Electronics and Communication Engineering</td>\n",
              "      <td>0</td>\n",
              "      <td>55.0</td>\n",
              "      <td>6.0</td>\n",
              "    </tr>\n",
              "    <tr>\n",
              "      <th>115</th>\n",
              "      <td>AMARNATH D</td>\n",
              "      <td>-1.0</td>\n",
              "      <td>12.0</td>\n",
              "      <td>1890</td>\n",
              "      <td>1890</td>\n",
              "      <td>Electronics and Communication Engineering</td>\n",
              "      <td>0</td>\n",
              "      <td>52.0</td>\n",
              "      <td>-1.0</td>\n",
              "    </tr>\n",
              "    <tr>\n",
              "      <th>116</th>\n",
              "      <td>bala</td>\n",
              "      <td>32.0</td>\n",
              "      <td>0.0</td>\n",
              "      <td>1720</td>\n",
              "      <td>1720</td>\n",
              "      <td>Electronics and Communication Engineering</td>\n",
              "      <td>0</td>\n",
              "      <td>49.0</td>\n",
              "      <td>-1.0</td>\n",
              "    </tr>\n",
              "  </tbody>\n",
              "</table>\n",
              "<p>99 rows × 9 columns</p>\n",
              "</div>\n",
              "      <button class=\"colab-df-convert\" onclick=\"convertToInteractive('df-a05e59f1-84d3-4e14-92d5-849142a92bb2')\"\n",
              "              title=\"Convert this dataframe to an interactive table.\"\n",
              "              style=\"display:none;\">\n",
              "        \n",
              "  <svg xmlns=\"http://www.w3.org/2000/svg\" height=\"24px\"viewBox=\"0 0 24 24\"\n",
              "       width=\"24px\">\n",
              "    <path d=\"M0 0h24v24H0V0z\" fill=\"none\"/>\n",
              "    <path d=\"M18.56 5.44l.94 2.06.94-2.06 2.06-.94-2.06-.94-.94-2.06-.94 2.06-2.06.94zm-11 1L8.5 8.5l.94-2.06 2.06-.94-2.06-.94L8.5 2.5l-.94 2.06-2.06.94zm10 10l.94 2.06.94-2.06 2.06-.94-2.06-.94-.94-2.06-.94 2.06-2.06.94z\"/><path d=\"M17.41 7.96l-1.37-1.37c-.4-.4-.92-.59-1.43-.59-.52 0-1.04.2-1.43.59L10.3 9.45l-7.72 7.72c-.78.78-.78 2.05 0 2.83L4 21.41c.39.39.9.59 1.41.59.51 0 1.02-.2 1.41-.59l7.78-7.78 2.81-2.81c.8-.78.8-2.07 0-2.86zM5.41 20L4 18.59l7.72-7.72 1.47 1.35L5.41 20z\"/>\n",
              "  </svg>\n",
              "      </button>\n",
              "      \n",
              "  <style>\n",
              "    .colab-df-container {\n",
              "      display:flex;\n",
              "      flex-wrap:wrap;\n",
              "      gap: 12px;\n",
              "    }\n",
              "\n",
              "    .colab-df-convert {\n",
              "      background-color: #E8F0FE;\n",
              "      border: none;\n",
              "      border-radius: 50%;\n",
              "      cursor: pointer;\n",
              "      display: none;\n",
              "      fill: #1967D2;\n",
              "      height: 32px;\n",
              "      padding: 0 0 0 0;\n",
              "      width: 32px;\n",
              "    }\n",
              "\n",
              "    .colab-df-convert:hover {\n",
              "      background-color: #E2EBFA;\n",
              "      box-shadow: 0px 1px 2px rgba(60, 64, 67, 0.3), 0px 1px 3px 1px rgba(60, 64, 67, 0.15);\n",
              "      fill: #174EA6;\n",
              "    }\n",
              "\n",
              "    [theme=dark] .colab-df-convert {\n",
              "      background-color: #3B4455;\n",
              "      fill: #D2E3FC;\n",
              "    }\n",
              "\n",
              "    [theme=dark] .colab-df-convert:hover {\n",
              "      background-color: #434B5C;\n",
              "      box-shadow: 0px 1px 3px 1px rgba(0, 0, 0, 0.15);\n",
              "      filter: drop-shadow(0px 1px 2px rgba(0, 0, 0, 0.3));\n",
              "      fill: #FFFFFF;\n",
              "    }\n",
              "  </style>\n",
              "\n",
              "      <script>\n",
              "        const buttonEl =\n",
              "          document.querySelector('#df-a05e59f1-84d3-4e14-92d5-849142a92bb2 button.colab-df-convert');\n",
              "        buttonEl.style.display =\n",
              "          google.colab.kernel.accessAllowed ? 'block' : 'none';\n",
              "\n",
              "        async function convertToInteractive(key) {\n",
              "          const element = document.querySelector('#df-a05e59f1-84d3-4e14-92d5-849142a92bb2');\n",
              "          const dataTable =\n",
              "            await google.colab.kernel.invokeFunction('convertToInteractive',\n",
              "                                                     [key], {});\n",
              "          if (!dataTable) return;\n",
              "\n",
              "          const docLinkHtml = 'Like what you see? Visit the ' +\n",
              "            '<a target=\"_blank\" href=https://colab.research.google.com/notebooks/data_table.ipynb>data table notebook</a>'\n",
              "            + ' to learn more about interactive tables.';\n",
              "          element.innerHTML = '';\n",
              "          dataTable['output_type'] = 'display_data';\n",
              "          await google.colab.output.renderOutput(dataTable, element);\n",
              "          const docLink = document.createElement('div');\n",
              "          docLink.innerHTML = docLinkHtml;\n",
              "          element.appendChild(docLink);\n",
              "        }\n",
              "      </script>\n",
              "    </div>\n",
              "  </div>\n",
              "  "
            ]
          },
          "metadata": {},
          "execution_count": 10
        }
      ],
      "source": [
        "# To check\n",
        "mean_valu= new_df.mean()\n",
        "print(mean_valu)\n",
        "Avg_Completion= new_df[ (new_df['python']>mean_valu[0]) | (new_df['mysql']>mean_valu[1]) | (new_df['python_en']>mean_valu[5]) | (new_df['computational_thinking']>mean_valu[6])]\n",
        "Avg_Completion"
      ]
    },
    {
      "cell_type": "markdown",
      "metadata": {
        "id": "8oNF4hMKcdZ_"
      },
      "source": [
        "###### rising star of the week (top 3 candidate who performed well in that particular week)"
      ]
    },
    {
      "cell_type": "code",
      "execution_count": 21,
      "metadata": {
        "id": "mOMr43-2cdZ_",
        "colab": {
          "base_uri": "https://localhost:8080/",
          "height": 143
        },
        "outputId": "5057e779-d0ae-4740-ac98-825402636e3b"
      },
      "outputs": [
        {
          "output_type": "execute_result",
          "data": {
            "text/plain": [
              "                  Name  python  mysql  Previous Geekions  CodeKata Score  \\\n",
              "92            shifak N    58.0    0.0               5180            8320   \n",
              "102     Narasimhan Y L    -1.0    0.0               4800            6800   \n",
              "86   Ganesh Ramkumar R    -1.0   24.0               8790           10790   \n",
              "\n",
              "                                 Department  Rising  python_en  \\\n",
              "92   Electronics and Electrical Engineering    3140        0.0   \n",
              "102        Computer Science and Engineering    2000       -1.0   \n",
              "86         Computer Science and Engineering    2000       55.0   \n",
              "\n",
              "     computational_thinking  \n",
              "92                      0.0  \n",
              "102                     0.0  \n",
              "86                      6.0  "
            ],
            "text/html": [
              "\n",
              "  <div id=\"df-f90b5b36-9325-47d8-ad74-43704a23403b\">\n",
              "    <div class=\"colab-df-container\">\n",
              "      <div>\n",
              "<style scoped>\n",
              "    .dataframe tbody tr th:only-of-type {\n",
              "        vertical-align: middle;\n",
              "    }\n",
              "\n",
              "    .dataframe tbody tr th {\n",
              "        vertical-align: top;\n",
              "    }\n",
              "\n",
              "    .dataframe thead th {\n",
              "        text-align: right;\n",
              "    }\n",
              "</style>\n",
              "<table border=\"1\" class=\"dataframe\">\n",
              "  <thead>\n",
              "    <tr style=\"text-align: right;\">\n",
              "      <th></th>\n",
              "      <th>Name</th>\n",
              "      <th>python</th>\n",
              "      <th>mysql</th>\n",
              "      <th>Previous Geekions</th>\n",
              "      <th>CodeKata Score</th>\n",
              "      <th>Department</th>\n",
              "      <th>Rising</th>\n",
              "      <th>python_en</th>\n",
              "      <th>computational_thinking</th>\n",
              "    </tr>\n",
              "  </thead>\n",
              "  <tbody>\n",
              "    <tr>\n",
              "      <th>92</th>\n",
              "      <td>shifak N</td>\n",
              "      <td>58.0</td>\n",
              "      <td>0.0</td>\n",
              "      <td>5180</td>\n",
              "      <td>8320</td>\n",
              "      <td>Electronics and Electrical Engineering</td>\n",
              "      <td>3140</td>\n",
              "      <td>0.0</td>\n",
              "      <td>0.0</td>\n",
              "    </tr>\n",
              "    <tr>\n",
              "      <th>102</th>\n",
              "      <td>Narasimhan Y L</td>\n",
              "      <td>-1.0</td>\n",
              "      <td>0.0</td>\n",
              "      <td>4800</td>\n",
              "      <td>6800</td>\n",
              "      <td>Computer Science and Engineering</td>\n",
              "      <td>2000</td>\n",
              "      <td>-1.0</td>\n",
              "      <td>0.0</td>\n",
              "    </tr>\n",
              "    <tr>\n",
              "      <th>86</th>\n",
              "      <td>Ganesh Ramkumar R</td>\n",
              "      <td>-1.0</td>\n",
              "      <td>24.0</td>\n",
              "      <td>8790</td>\n",
              "      <td>10790</td>\n",
              "      <td>Computer Science and Engineering</td>\n",
              "      <td>2000</td>\n",
              "      <td>55.0</td>\n",
              "      <td>6.0</td>\n",
              "    </tr>\n",
              "  </tbody>\n",
              "</table>\n",
              "</div>\n",
              "      <button class=\"colab-df-convert\" onclick=\"convertToInteractive('df-f90b5b36-9325-47d8-ad74-43704a23403b')\"\n",
              "              title=\"Convert this dataframe to an interactive table.\"\n",
              "              style=\"display:none;\">\n",
              "        \n",
              "  <svg xmlns=\"http://www.w3.org/2000/svg\" height=\"24px\"viewBox=\"0 0 24 24\"\n",
              "       width=\"24px\">\n",
              "    <path d=\"M0 0h24v24H0V0z\" fill=\"none\"/>\n",
              "    <path d=\"M18.56 5.44l.94 2.06.94-2.06 2.06-.94-2.06-.94-.94-2.06-.94 2.06-2.06.94zm-11 1L8.5 8.5l.94-2.06 2.06-.94-2.06-.94L8.5 2.5l-.94 2.06-2.06.94zm10 10l.94 2.06.94-2.06 2.06-.94-2.06-.94-.94-2.06-.94 2.06-2.06.94z\"/><path d=\"M17.41 7.96l-1.37-1.37c-.4-.4-.92-.59-1.43-.59-.52 0-1.04.2-1.43.59L10.3 9.45l-7.72 7.72c-.78.78-.78 2.05 0 2.83L4 21.41c.39.39.9.59 1.41.59.51 0 1.02-.2 1.41-.59l7.78-7.78 2.81-2.81c.8-.78.8-2.07 0-2.86zM5.41 20L4 18.59l7.72-7.72 1.47 1.35L5.41 20z\"/>\n",
              "  </svg>\n",
              "      </button>\n",
              "      \n",
              "  <style>\n",
              "    .colab-df-container {\n",
              "      display:flex;\n",
              "      flex-wrap:wrap;\n",
              "      gap: 12px;\n",
              "    }\n",
              "\n",
              "    .colab-df-convert {\n",
              "      background-color: #E8F0FE;\n",
              "      border: none;\n",
              "      border-radius: 50%;\n",
              "      cursor: pointer;\n",
              "      display: none;\n",
              "      fill: #1967D2;\n",
              "      height: 32px;\n",
              "      padding: 0 0 0 0;\n",
              "      width: 32px;\n",
              "    }\n",
              "\n",
              "    .colab-df-convert:hover {\n",
              "      background-color: #E2EBFA;\n",
              "      box-shadow: 0px 1px 2px rgba(60, 64, 67, 0.3), 0px 1px 3px 1px rgba(60, 64, 67, 0.15);\n",
              "      fill: #174EA6;\n",
              "    }\n",
              "\n",
              "    [theme=dark] .colab-df-convert {\n",
              "      background-color: #3B4455;\n",
              "      fill: #D2E3FC;\n",
              "    }\n",
              "\n",
              "    [theme=dark] .colab-df-convert:hover {\n",
              "      background-color: #434B5C;\n",
              "      box-shadow: 0px 1px 3px 1px rgba(0, 0, 0, 0.15);\n",
              "      filter: drop-shadow(0px 1px 2px rgba(0, 0, 0, 0.3));\n",
              "      fill: #FFFFFF;\n",
              "    }\n",
              "  </style>\n",
              "\n",
              "      <script>\n",
              "        const buttonEl =\n",
              "          document.querySelector('#df-f90b5b36-9325-47d8-ad74-43704a23403b button.colab-df-convert');\n",
              "        buttonEl.style.display =\n",
              "          google.colab.kernel.accessAllowed ? 'block' : 'none';\n",
              "\n",
              "        async function convertToInteractive(key) {\n",
              "          const element = document.querySelector('#df-f90b5b36-9325-47d8-ad74-43704a23403b');\n",
              "          const dataTable =\n",
              "            await google.colab.kernel.invokeFunction('convertToInteractive',\n",
              "                                                     [key], {});\n",
              "          if (!dataTable) return;\n",
              "\n",
              "          const docLinkHtml = 'Like what you see? Visit the ' +\n",
              "            '<a target=\"_blank\" href=https://colab.research.google.com/notebooks/data_table.ipynb>data table notebook</a>'\n",
              "            + ' to learn more about interactive tables.';\n",
              "          element.innerHTML = '';\n",
              "          dataTable['output_type'] = 'display_data';\n",
              "          await google.colab.output.renderOutput(dataTable, element);\n",
              "          const docLink = document.createElement('div');\n",
              "          docLink.innerHTML = docLinkHtml;\n",
              "          element.appendChild(docLink);\n",
              "        }\n",
              "      </script>\n",
              "    </div>\n",
              "  </div>\n",
              "  "
            ]
          },
          "metadata": {},
          "execution_count": 21
        }
      ],
      "source": [
        "rising_star= new_df.sort_values(by='Rising', ascending=False).head(3)\n",
        "rising_star"
      ]
    },
    {
      "cell_type": "markdown",
      "metadata": {
        "id": "nP9jlAkYcdaA"
      },
      "source": [
        "###### Shining stars of the week (top 3 candidates who has highest geekions)"
      ]
    },
    {
      "cell_type": "code",
      "execution_count": 22,
      "metadata": {
        "id": "qSJRF__qcdaA",
        "colab": {
          "base_uri": "https://localhost:8080/",
          "height": 143
        },
        "outputId": "162af571-358e-49f1-ec37-220604214bf3"
      },
      "outputs": [
        {
          "output_type": "execute_result",
          "data": {
            "text/plain": [
              "          Name  python  mysql  Previous Geekions  CodeKata Score  \\\n",
              "0    A.Dharani    82.0   20.0              24500           24500   \n",
              "1  V.JEEVITHA     82.0   20.0              21740           21740   \n",
              "2  HEMAVATHI.R   100.0  100.0              19680           19680   \n",
              "\n",
              "                         Department  Rising  python_en  computational_thinking  \n",
              "0  Computer Science and Engineering       0        NaN                     NaN  \n",
              "1  Computer Science and Engineering       0        NaN                     NaN  \n",
              "2  Computer Science and Engineering       0        NaN                     NaN  "
            ],
            "text/html": [
              "\n",
              "  <div id=\"df-ea81dc0a-b5ab-427c-9fa4-b5210687af58\">\n",
              "    <div class=\"colab-df-container\">\n",
              "      <div>\n",
              "<style scoped>\n",
              "    .dataframe tbody tr th:only-of-type {\n",
              "        vertical-align: middle;\n",
              "    }\n",
              "\n",
              "    .dataframe tbody tr th {\n",
              "        vertical-align: top;\n",
              "    }\n",
              "\n",
              "    .dataframe thead th {\n",
              "        text-align: right;\n",
              "    }\n",
              "</style>\n",
              "<table border=\"1\" class=\"dataframe\">\n",
              "  <thead>\n",
              "    <tr style=\"text-align: right;\">\n",
              "      <th></th>\n",
              "      <th>Name</th>\n",
              "      <th>python</th>\n",
              "      <th>mysql</th>\n",
              "      <th>Previous Geekions</th>\n",
              "      <th>CodeKata Score</th>\n",
              "      <th>Department</th>\n",
              "      <th>Rising</th>\n",
              "      <th>python_en</th>\n",
              "      <th>computational_thinking</th>\n",
              "    </tr>\n",
              "  </thead>\n",
              "  <tbody>\n",
              "    <tr>\n",
              "      <th>0</th>\n",
              "      <td>A.Dharani</td>\n",
              "      <td>82.0</td>\n",
              "      <td>20.0</td>\n",
              "      <td>24500</td>\n",
              "      <td>24500</td>\n",
              "      <td>Computer Science and Engineering</td>\n",
              "      <td>0</td>\n",
              "      <td>NaN</td>\n",
              "      <td>NaN</td>\n",
              "    </tr>\n",
              "    <tr>\n",
              "      <th>1</th>\n",
              "      <td>V.JEEVITHA</td>\n",
              "      <td>82.0</td>\n",
              "      <td>20.0</td>\n",
              "      <td>21740</td>\n",
              "      <td>21740</td>\n",
              "      <td>Computer Science and Engineering</td>\n",
              "      <td>0</td>\n",
              "      <td>NaN</td>\n",
              "      <td>NaN</td>\n",
              "    </tr>\n",
              "    <tr>\n",
              "      <th>2</th>\n",
              "      <td>HEMAVATHI.R</td>\n",
              "      <td>100.0</td>\n",
              "      <td>100.0</td>\n",
              "      <td>19680</td>\n",
              "      <td>19680</td>\n",
              "      <td>Computer Science and Engineering</td>\n",
              "      <td>0</td>\n",
              "      <td>NaN</td>\n",
              "      <td>NaN</td>\n",
              "    </tr>\n",
              "  </tbody>\n",
              "</table>\n",
              "</div>\n",
              "      <button class=\"colab-df-convert\" onclick=\"convertToInteractive('df-ea81dc0a-b5ab-427c-9fa4-b5210687af58')\"\n",
              "              title=\"Convert this dataframe to an interactive table.\"\n",
              "              style=\"display:none;\">\n",
              "        \n",
              "  <svg xmlns=\"http://www.w3.org/2000/svg\" height=\"24px\"viewBox=\"0 0 24 24\"\n",
              "       width=\"24px\">\n",
              "    <path d=\"M0 0h24v24H0V0z\" fill=\"none\"/>\n",
              "    <path d=\"M18.56 5.44l.94 2.06.94-2.06 2.06-.94-2.06-.94-.94-2.06-.94 2.06-2.06.94zm-11 1L8.5 8.5l.94-2.06 2.06-.94-2.06-.94L8.5 2.5l-.94 2.06-2.06.94zm10 10l.94 2.06.94-2.06 2.06-.94-2.06-.94-.94-2.06-.94 2.06-2.06.94z\"/><path d=\"M17.41 7.96l-1.37-1.37c-.4-.4-.92-.59-1.43-.59-.52 0-1.04.2-1.43.59L10.3 9.45l-7.72 7.72c-.78.78-.78 2.05 0 2.83L4 21.41c.39.39.9.59 1.41.59.51 0 1.02-.2 1.41-.59l7.78-7.78 2.81-2.81c.8-.78.8-2.07 0-2.86zM5.41 20L4 18.59l7.72-7.72 1.47 1.35L5.41 20z\"/>\n",
              "  </svg>\n",
              "      </button>\n",
              "      \n",
              "  <style>\n",
              "    .colab-df-container {\n",
              "      display:flex;\n",
              "      flex-wrap:wrap;\n",
              "      gap: 12px;\n",
              "    }\n",
              "\n",
              "    .colab-df-convert {\n",
              "      background-color: #E8F0FE;\n",
              "      border: none;\n",
              "      border-radius: 50%;\n",
              "      cursor: pointer;\n",
              "      display: none;\n",
              "      fill: #1967D2;\n",
              "      height: 32px;\n",
              "      padding: 0 0 0 0;\n",
              "      width: 32px;\n",
              "    }\n",
              "\n",
              "    .colab-df-convert:hover {\n",
              "      background-color: #E2EBFA;\n",
              "      box-shadow: 0px 1px 2px rgba(60, 64, 67, 0.3), 0px 1px 3px 1px rgba(60, 64, 67, 0.15);\n",
              "      fill: #174EA6;\n",
              "    }\n",
              "\n",
              "    [theme=dark] .colab-df-convert {\n",
              "      background-color: #3B4455;\n",
              "      fill: #D2E3FC;\n",
              "    }\n",
              "\n",
              "    [theme=dark] .colab-df-convert:hover {\n",
              "      background-color: #434B5C;\n",
              "      box-shadow: 0px 1px 3px 1px rgba(0, 0, 0, 0.15);\n",
              "      filter: drop-shadow(0px 1px 2px rgba(0, 0, 0, 0.3));\n",
              "      fill: #FFFFFF;\n",
              "    }\n",
              "  </style>\n",
              "\n",
              "      <script>\n",
              "        const buttonEl =\n",
              "          document.querySelector('#df-ea81dc0a-b5ab-427c-9fa4-b5210687af58 button.colab-df-convert');\n",
              "        buttonEl.style.display =\n",
              "          google.colab.kernel.accessAllowed ? 'block' : 'none';\n",
              "\n",
              "        async function convertToInteractive(key) {\n",
              "          const element = document.querySelector('#df-ea81dc0a-b5ab-427c-9fa4-b5210687af58');\n",
              "          const dataTable =\n",
              "            await google.colab.kernel.invokeFunction('convertToInteractive',\n",
              "                                                     [key], {});\n",
              "          if (!dataTable) return;\n",
              "\n",
              "          const docLinkHtml = 'Like what you see? Visit the ' +\n",
              "            '<a target=\"_blank\" href=https://colab.research.google.com/notebooks/data_table.ipynb>data table notebook</a>'\n",
              "            + ' to learn more about interactive tables.';\n",
              "          element.innerHTML = '';\n",
              "          dataTable['output_type'] = 'display_data';\n",
              "          await google.colab.output.renderOutput(dataTable, element);\n",
              "          const docLink = document.createElement('div');\n",
              "          docLink.innerHTML = docLinkHtml;\n",
              "          element.appendChild(docLink);\n",
              "        }\n",
              "      </script>\n",
              "    </div>\n",
              "  </div>\n",
              "  "
            ]
          },
          "metadata": {},
          "execution_count": 22
        }
      ],
      "source": [
        "Shining_star= new_df.sort_values(by='CodeKata Score', ascending=False).head(3)\n",
        "Shining_star"
      ]
    },
    {
      "cell_type": "markdown",
      "metadata": {
        "id": "SPHwH6W7cdaA"
      },
      "source": [
        "###### Department wise codekata performence (pie chart)"
      ]
    },
    {
      "cell_type": "code",
      "execution_count": 23,
      "metadata": {
        "id": "I7tlwqKecdaA",
        "colab": {
          "base_uri": "https://localhost:8080/",
          "height": 593
        },
        "outputId": "8d78dea0-8264-4cd3-e5b4-70d6743fb2b1"
      },
      "outputs": [
        {
          "output_type": "stream",
          "name": "stdout",
          "text": [
            "Department\n",
            "Computer Science and Engineering             320025\n",
            "Electronics and Communication Engineering    108335\n",
            "Electronics and Electrical Engineering        53800\n",
            "Name: CodeKata Score, dtype: int64\n"
          ]
        },
        {
          "output_type": "display_data",
          "data": {
            "text/plain": [
              "<Figure size 640x480 with 1 Axes>"
            ],
            "image/png": "[encoded data removed]"
          },
          "metadata": {}
        }
      ],
      "source": [
        "c_d=new_df.groupby('Department')['CodeKata Score'].sum()\n",
        "print(c_d)\n",
        "label=['Computer Science and Engineering', 'Electronics and Communication Engineering', 'Electronics and Electrical Engineering']\n",
        "plt.pie(c_d, autopct=\"%f\", labels=label, shadow=True, radius=1.5)\n",
        "plt.show()"
      ]
    },
    {
      "cell_type": "markdown",
      "metadata": {
        "id": "ftin-RvEcdaB"
      },
      "source": [
        "###### Department wise toppers (horizantal bar graph or any visual representations of your choice)"
      ]
    },
    {
      "cell_type": "code",
      "source": [
        "# Getting top scored candidate from each department by grouping the department\n",
        "top= new_df.groupby('Department')['CodeKata Score'].idxmax()\n",
        "labels=top.index  # storing the id in labels variable\n",
        "j=0\n",
        "for i in top:\n",
        "  plt.bar(new_df.loc[i, 'Name'], new_df.loc[i, 'CodeKata Score'], label= labels[j])\n",
        "  j=j+1\n",
        "  plt.legend()"
      ],
      "metadata": {
        "colab": {
          "base_uri": "https://localhost:8080/",
          "height": 430
        },
        "id": "_E1THLJ8hKq4",
        "outputId": "4c5d7e70-d7ea-4748-8ad8-f9aa51805c29"
      },
      "execution_count": 106,
      "outputs": [
        {
          "output_type": "display_data",
          "data": {
            "text/plain": [
              "<Figure size 640x480 with 1 Axes>"
            ],
            "image/png": "[encoded data removed]"
          },
          "metadata": {}
        }
      ]
    }
  ],
  "metadata": {
    "kernelspec": {
      "display_name": "Python 3",
      "language": "python",
      "name": "python3"
    },
    "language_info": {
      "codemirror_mode": {
        "name": "ipython",
        "version": 3
      },
      "file_extension": ".py",
      "mimetype": "text/x-python",
      "name": "python",
      "nbconvert_exporter": "python",
      "pygments_lexer": "ipython3",
      "version": "3.8.3"
    },
    "colab": {
      "provenance": [],
      "include_colab_link": true
    }
  },
  "nbformat": 4,
  "nbformat_minor": 0
}